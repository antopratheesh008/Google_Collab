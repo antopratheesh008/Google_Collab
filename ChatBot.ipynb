{
  "nbformat": 4,
  "nbformat_minor": 0,
  "metadata": {
    "colab": {
      "name": "ChatBot.ipynb",
      "provenance": [],
      "collapsed_sections": [],
      "mount_file_id": "17WZM4oH1hB0xR5unm2HWIrRdLltfyqGY",
      "authorship_tag": "ABX9TyNNtIofWIXYIDv52IV7kKjP",
      "include_colab_link": true
    },
    "kernelspec": {
      "name": "python3",
      "display_name": "Python 3"
    },
    "accelerator": "GPU"
  },
  "cells": [
    {
      "cell_type": "markdown",
      "metadata": {
        "id": "view-in-github",
        "colab_type": "text"
      },
      "source": [
        "<a href=\"https://colab.research.google.com/github/antopratheesh008/Google_Collab/blob/master/ChatBot.ipynb\" target=\"_parent\"><img src=\"https://colab.research.google.com/assets/colab-badge.svg\" alt=\"Open In Colab\"/></a>"
      ]
    },
    {
      "cell_type": "code",
      "metadata": {
        "id": "Rc3cQSwSgTQo",
        "colab_type": "code",
        "colab": {}
      },
      "source": [
        "import torch\n",
        "import torch.nn as nn\n",
        "from torch import optim\n",
        "import torch.nn.functional as F\n",
        "import csv\n",
        "import random\n",
        "import re\n",
        "import os\n",
        "import unicodedata\n",
        "import codecs\n",
        "from io import open\n",
        "import itertools\n",
        "import math"
      ],
      "execution_count": 0,
      "outputs": []
    },
    {
      "cell_type": "code",
      "metadata": {
        "id": "TBAMD7SKzetN",
        "colab_type": "code",
        "colab": {}
      },
      "source": [
        "USE_CUDA = torch.cuda.is_available()\n",
        "device = torch.device(\"cuda\" if USE_CUDA else \"cpu\")"
      ],
      "execution_count": 0,
      "outputs": []
    },
    {
      "cell_type": "code",
      "metadata": {
        "id": "NUD5DQw2zfJJ",
        "colab_type": "code",
        "outputId": "074e7821-73f5-400e-f5da-8e874c80ab3d",
        "colab": {
          "base_uri": "https://localhost:8080/",
          "height": 34
        }
      },
      "source": [
        "device"
      ],
      "execution_count": 3,
      "outputs": [
        {
          "output_type": "execute_result",
          "data": {
            "text/plain": [
              "device(type='cuda')"
            ]
          },
          "metadata": {
            "tags": []
          },
          "execution_count": 3
        }
      ]
    },
    {
      "cell_type": "code",
      "metadata": {
        "id": "L98QjQk8z5WJ",
        "colab_type": "code",
        "colab": {}
      },
      "source": [
        "corpus_name = \"/content/drive/My Drive/DataSets/Cornell_movie\"\n",
        "lines_filepath = os.path.join(corpus_name,\"movie_lines.txt\")\n",
        "conv_filepath = os.path.join(corpus_name, \"movie_conversations.txt\")"
      ],
      "execution_count": 0,
      "outputs": []
    },
    {
      "cell_type": "code",
      "metadata": {
        "id": "j8gDL68I0jfu",
        "colab_type": "code",
        "outputId": "2b0187ca-e4c7-4f14-a131-5fae5773cac7",
        "colab": {
          "base_uri": "https://localhost:8080/",
          "height": 153
        }
      },
      "source": [
        "with open(lines_filepath, 'r', errors='ignore') as file :\n",
        "  lines = file.readlines()\n",
        "for line in lines[:8]:\n",
        "  print(line.strip())"
      ],
      "execution_count": 5,
      "outputs": [
        {
          "output_type": "stream",
          "text": [
            "L1045 +++$+++ u0 +++$+++ m0 +++$+++ BIANCA +++$+++ They do not!\n",
            "L1044 +++$+++ u2 +++$+++ m0 +++$+++ CAMERON +++$+++ They do to!\n",
            "L985 +++$+++ u0 +++$+++ m0 +++$+++ BIANCA +++$+++ I hope so.\n",
            "L984 +++$+++ u2 +++$+++ m0 +++$+++ CAMERON +++$+++ She okay?\n",
            "L925 +++$+++ u0 +++$+++ m0 +++$+++ BIANCA +++$+++ Let's go.\n",
            "L924 +++$+++ u2 +++$+++ m0 +++$+++ CAMERON +++$+++ Wow\n",
            "L872 +++$+++ u0 +++$+++ m0 +++$+++ BIANCA +++$+++ Okay -- you're gonna need to learn how to lie.\n",
            "L871 +++$+++ u2 +++$+++ m0 +++$+++ CAMERON +++$+++ No\n"
          ],
          "name": "stdout"
        }
      ]
    },
    {
      "cell_type": "code",
      "metadata": {
        "id": "bPpRvMUz1Mis",
        "colab_type": "code",
        "colab": {}
      },
      "source": [
        "line_fields = ['lineID','characterID','movieID','character','text']\n",
        "lines={}\n",
        "with open(lines_filepath, 'r', encoding='iso-8859-1') as f:\n",
        "    for line in f:\n",
        "          values = line.split(\" +++$+++ \")\n",
        "          # Extract fields\n",
        "          lineObj = {}\n",
        "          for i, field in enumerate(line_fields):\n",
        "              lineObj[field] = values[i]\n",
        "          lines[lineObj['lineID']] = lineObj"
      ],
      "execution_count": 0,
      "outputs": []
    },
    {
      "cell_type": "code",
      "metadata": {
        "id": "B6QgKMd0522l",
        "colab_type": "code",
        "outputId": "7fec9edf-15b7-4e69-f8c3-83e4211f1bd2",
        "colab": {
          "base_uri": "https://localhost:8080/",
          "height": 102
        }
      },
      "source": [
        "lines['L871']"
      ],
      "execution_count": 7,
      "outputs": [
        {
          "output_type": "execute_result",
          "data": {
            "text/plain": [
              "{'character': 'CAMERON',\n",
              " 'characterID': 'u2',\n",
              " 'lineID': 'L871',\n",
              " 'movieID': 'm0',\n",
              " 'text': 'No\\n'}"
            ]
          },
          "metadata": {
            "tags": []
          },
          "execution_count": 7
        }
      ]
    },
    {
      "cell_type": "code",
      "metadata": {
        "id": "aNPKd33K6PmP",
        "colab_type": "code",
        "colab": {}
      },
      "source": [
        "conv_fields=[\"character1ID\",\"character2ID\",\"movieID\",\"utteranceIDs\"]\n",
        "conversations = []\n",
        "with open(conv_filepath, 'r', encoding='iso-8859-1') as f:\n",
        "    for line in f:\n",
        "        values = line.split(\" +++$+++ \")\n",
        "        # Extract fields\n",
        "        convObj = {}\n",
        "        for i, field in enumerate(conv_fields):\n",
        "            convObj[field] = values[i]\n",
        "        # Convert string to list (convObj[\"utteranceIDs\"] == \"['L598485', 'L598486', ...]\")\n",
        "        utterance_id_pattern = re.compile('L[0-9]+')\n",
        "        lineIds = utterance_id_pattern.findall(convObj[\"utteranceIDs\"])\n",
        "        # Reassemble lines\n",
        "        convObj[\"lines\"] = []\n",
        "        for lineId in lineIds:\n",
        "            convObj[\"lines\"].append(lines[lineId])\n",
        "        conversations.append(convObj)"
      ],
      "execution_count": 0,
      "outputs": []
    },
    {
      "cell_type": "code",
      "metadata": {
        "id": "0VKbBJ2580mo",
        "colab_type": "code",
        "outputId": "7ea647fd-9f60-4936-e785-ff56841e7cc8",
        "colab": {
          "base_uri": "https://localhost:8080/",
          "height": 445
        }
      },
      "source": [
        "conversations[0]"
      ],
      "execution_count": 9,
      "outputs": [
        {
          "output_type": "execute_result",
          "data": {
            "text/plain": [
              "{'character1ID': 'u0',\n",
              " 'character2ID': 'u2',\n",
              " 'lines': [{'character': 'BIANCA',\n",
              "   'characterID': 'u0',\n",
              "   'lineID': 'L194',\n",
              "   'movieID': 'm0',\n",
              "   'text': 'Can we make this quick?  Roxanne Korrine and Andrew Barrett are having an incredibly horrendous public break- up on the quad.  Again.\\n'},\n",
              "  {'character': 'CAMERON',\n",
              "   'characterID': 'u2',\n",
              "   'lineID': 'L195',\n",
              "   'movieID': 'm0',\n",
              "   'text': \"Well, I thought we'd start with pronunciation, if that's okay with you.\\n\"},\n",
              "  {'character': 'BIANCA',\n",
              "   'characterID': 'u0',\n",
              "   'lineID': 'L196',\n",
              "   'movieID': 'm0',\n",
              "   'text': 'Not the hacking and gagging and spitting part.  Please.\\n'},\n",
              "  {'character': 'CAMERON',\n",
              "   'characterID': 'u2',\n",
              "   'lineID': 'L197',\n",
              "   'movieID': 'm0',\n",
              "   'text': \"Okay... then how 'bout we try out some French cuisine.  Saturday?  Night?\\n\"}],\n",
              " 'movieID': 'm0',\n",
              " 'utteranceIDs': \"['L194', 'L195', 'L196', 'L197']\\n\"}"
            ]
          },
          "metadata": {
            "tags": []
          },
          "execution_count": 9
        }
      ]
    },
    {
      "cell_type": "code",
      "metadata": {
        "id": "SZF_uQ1L9R1h",
        "colab_type": "code",
        "colab": {}
      },
      "source": [
        "qa_pairs = []\n",
        "for conversation in conversations:\n",
        "    # Iterate over all the lines of the conversation\n",
        "    for i in range(len(conversation[\"lines\"]) - 1):  # We ignore the last line (no answer for it)\n",
        "        inputLine = conversation[\"lines\"][i][\"text\"].strip()\n",
        "        targetLine = conversation[\"lines\"][i+1][\"text\"].strip()\n",
        "        # Filter wrong samples (if one of the lists is empty)\n",
        "        if inputLine and targetLine:\n",
        "            qa_pairs.append([inputLine, targetLine])"
      ],
      "execution_count": 0,
      "outputs": []
    },
    {
      "cell_type": "code",
      "metadata": {
        "id": "c2ePegY2BGdV",
        "colab_type": "code",
        "outputId": "724a0859-e491-4fcf-ea05-8c4fa0cb4393",
        "colab": {
          "base_uri": "https://localhost:8080/",
          "height": 105
        }
      },
      "source": [
        "qa_pairs[:2]"
      ],
      "execution_count": 11,
      "outputs": [
        {
          "output_type": "execute_result",
          "data": {
            "text/plain": [
              "[['Can we make this quick?  Roxanne Korrine and Andrew Barrett are having an incredibly horrendous public break- up on the quad.  Again.',\n",
              "  \"Well, I thought we'd start with pronunciation, if that's okay with you.\"],\n",
              " [\"Well, I thought we'd start with pronunciation, if that's okay with you.\",\n",
              "  'Not the hacking and gagging and spitting part.  Please.']]"
            ]
          },
          "metadata": {
            "tags": []
          },
          "execution_count": 11
        }
      ]
    },
    {
      "cell_type": "code",
      "metadata": {
        "id": "KxM_SANHBH3q",
        "colab_type": "code",
        "outputId": "5e50fc9c-cdb9-48bd-bba0-fe24364ef2fa",
        "colab": {
          "base_uri": "https://localhost:8080/",
          "height": 34
        }
      },
      "source": [
        "len(qa_pairs)"
      ],
      "execution_count": 12,
      "outputs": [
        {
          "output_type": "execute_result",
          "data": {
            "text/plain": [
              "221282"
            ]
          },
          "metadata": {
            "tags": []
          },
          "execution_count": 12
        }
      ]
    },
    {
      "cell_type": "code",
      "metadata": {
        "id": "dc2XK8CpCA0t",
        "colab_type": "code",
        "outputId": "606f242d-8622-4df7-b708-4d0cf87a1718",
        "colab": {
          "base_uri": "https://localhost:8080/",
          "height": 68
        }
      },
      "source": [
        "print(\"\\nWriting newly formatted file...\")\n",
        "datafile=\"/content/drive/My Drive/DataSets/Cornell_movie/formatted_movies_lines.txt\"\n",
        "delimiter=\"\\t\"\n",
        "delimiter=str(codecs.decode(delimiter, \"unicode_escape\"))\n",
        "with open(datafile, 'w', encoding='utf-8') as outputfile:\n",
        "    writer = csv.writer(outputfile, delimiter=delimiter)\n",
        "    for pair in qa_pairs:\n",
        "        writer.writerow(pair)\n",
        "    print(\"Done writing the file\")"
      ],
      "execution_count": 13,
      "outputs": [
        {
          "output_type": "stream",
          "text": [
            "\n",
            "Writing newly formatted file...\n",
            "Done writing the file\n"
          ],
          "name": "stdout"
        }
      ]
    },
    {
      "cell_type": "code",
      "metadata": {
        "id": "gWZ4pWXrF8sX",
        "colab_type": "code",
        "outputId": "e20eefc8-a041-4c90-cc1b-154b9318b215",
        "colab": {
          "base_uri": "https://localhost:8080/",
          "height": 173
        }
      },
      "source": [
        "with open(datafile, 'rb') as file:\n",
        "  lines=file.readlines()\n",
        "  for line in lines[:8]:\n",
        "    print(line)\n"
      ],
      "execution_count": 14,
      "outputs": [
        {
          "output_type": "stream",
          "text": [
            "b\"Can we make this quick?  Roxanne Korrine and Andrew Barrett are having an incredibly horrendous public break- up on the quad.  Again.\\tWell, I thought we'd start with pronunciation, if that's okay with you.\\r\\n\"\n",
            "b\"Well, I thought we'd start with pronunciation, if that's okay with you.\\tNot the hacking and gagging and spitting part.  Please.\\r\\n\"\n",
            "b\"Not the hacking and gagging and spitting part.  Please.\\tOkay... then how 'bout we try out some French cuisine.  Saturday?  Night?\\r\\n\"\n",
            "b\"You're asking me out.  That's so cute. What's your name again?\\tForget it.\\r\\n\"\n",
            "b\"No, no, it's my fault -- we didn't have a proper introduction ---\\tCameron.\\r\\n\"\n",
            "b\"Cameron.\\tThe thing is, Cameron -- I'm at the mercy of a particularly hideous breed of loser.  My sister.  I can't date until she does.\\r\\n\"\n",
            "b\"The thing is, Cameron -- I'm at the mercy of a particularly hideous breed of loser.  My sister.  I can't date until she does.\\tSeems like she could get a date easy enough...\\r\\n\"\n",
            "b'Why?\\tUnsolved mystery.  She used to be really popular when she started high school, then it was just like she got sick of it or something.\\r\\n'\n"
          ],
          "name": "stdout"
        }
      ]
    },
    {
      "cell_type": "code",
      "metadata": {
        "id": "CRb48IC5GYVD",
        "colab_type": "code",
        "colab": {}
      },
      "source": [
        "PAD_token = 0  # Used for padding short sentences\n",
        "SOS_token = 1  # Start-of-sentence token\n",
        "EOS_token = 2  # End-of-sentence token\n",
        "\n",
        "class Vocabulary:\n",
        "    def __init__(self, name):\n",
        "        self.name = name\n",
        "        self.trimmed = False\n",
        "        self.word2index = {}\n",
        "        self.word2count = {}\n",
        "        self.index2word = {PAD_token: \"PAD\", SOS_token: \"SOS\", EOS_token: \"EOS\"}\n",
        "        self.num_words = 3  # Count SOS, EOS, PAD\n",
        "\n",
        "    def addSentence(self, sentence):\n",
        "        for word in sentence.split(' '):\n",
        "            self.addWord(word)\n",
        "\n",
        "    def addWord(self, word):\n",
        "        if word not in self.word2index:\n",
        "            self.word2index[word] = self.num_words\n",
        "            self.word2count[word] = 1\n",
        "            self.index2word[self.num_words] = word\n",
        "            self.num_words += 1\n",
        "        else:\n",
        "            self.word2count[word] += 1\n",
        "\n",
        "    # Remove words below a certain count threshold\n",
        "    def trim(self, min_count):\n",
        "        keep_words = []\n",
        "\n",
        "        for k, v in self.word2count.items():\n",
        "            if v >= min_count:\n",
        "                keep_words.append(k)\n",
        "\n",
        "        print('keep_words {} / {} = {:.4f}'.format(\n",
        "            len(keep_words), len(self.word2index), len(keep_words) / len(self.word2index)\n",
        "        ))\n",
        "\n",
        "        # Reinitialize dictionaries\n",
        "        self.word2index = {}\n",
        "        self.word2count = {}\n",
        "        self.index2word = {PAD_token: \"PAD\", SOS_token: \"SOS\", EOS_token: \"EOS\"}\n",
        "        self.num_words = 3 # Count default tokens\n",
        "\n",
        "        for word in keep_words:\n",
        "            self.addWord(word)"
      ],
      "execution_count": 0,
      "outputs": []
    },
    {
      "cell_type": "code",
      "metadata": {
        "id": "jQE5se7F5a5w",
        "colab_type": "code",
        "colab": {}
      },
      "source": [
        "# NFD - Normal Form Decompose\n",
        "# Mn - Non marking space\n",
        "def unicodeToAscii(s):\n",
        "    return ''.join(c for c in unicodedata.normalize('NFD', s) if unicodedata.category(c) != 'Mn')"
      ],
      "execution_count": 0,
      "outputs": []
    },
    {
      "cell_type": "code",
      "metadata": {
        "id": "iXwHr5df7Qrl",
        "colab_type": "code",
        "outputId": "69c8f9e9-29d2-475f-fd13-bb3463a02b35",
        "colab": {
          "base_uri": "https://localhost:8080/",
          "height": 34
        }
      },
      "source": [
        "unicodeToAscii('François')"
      ],
      "execution_count": 17,
      "outputs": [
        {
          "output_type": "execute_result",
          "data": {
            "text/plain": [
              "'Francois'"
            ]
          },
          "metadata": {
            "tags": []
          },
          "execution_count": 17
        }
      ]
    },
    {
      "cell_type": "code",
      "metadata": {
        "id": "YnEk9IoC7T9K",
        "colab_type": "code",
        "colab": {}
      },
      "source": [
        "# Lowercase, trim, and remove non-letter characters\n",
        "def normalizeString(s):\n",
        "    s = unicodeToAscii(s.lower().strip())\n",
        "    s = re.sub(r\"([.!?])\", r\" \\1\", s)\n",
        "    s = re.sub(r\"[^a-zA-Z.!?]+\", r\" \", s)\n",
        "    s = re.sub(r\"\\s+\", r\" \", s).strip()\n",
        "    return s"
      ],
      "execution_count": 0,
      "outputs": []
    },
    {
      "cell_type": "code",
      "metadata": {
        "id": "BK3K7mlB7d8t",
        "colab_type": "code",
        "outputId": "9bcb2293-27ea-4267-f616-49019b8e945a",
        "colab": {
          "base_uri": "https://localhost:8080/",
          "height": 34
        }
      },
      "source": [
        "# Test the function\n",
        "normalizeString(\"aa123a!3 dd?\")"
      ],
      "execution_count": 19,
      "outputs": [
        {
          "output_type": "execute_result",
          "data": {
            "text/plain": [
              "'aa a ! dd ?'"
            ]
          },
          "metadata": {
            "tags": []
          },
          "execution_count": 19
        }
      ]
    },
    {
      "cell_type": "code",
      "metadata": {
        "id": "DvoH4AzD8H7T",
        "colab_type": "code",
        "outputId": "d7603e14-86ae-433c-a30a-ad839413f890",
        "colab": {
          "base_uri": "https://localhost:8080/",
          "height": 51
        }
      },
      "source": [
        "# Read the file and split into lines\n",
        "print(\"Reading lines...\")\n",
        "lines = open(datafile, encoding='utf-8').read().strip().split('\\n')\n",
        "# Split every line into pairs and normalize\n",
        "pairs = [[normalizeString(s) for s in l.split('\\t')] for l in lines]\n",
        "print('Done Reading')\n",
        "voc = Vocabulary(corpus_name)"
      ],
      "execution_count": 20,
      "outputs": [
        {
          "output_type": "stream",
          "text": [
            "Reading lines...\n",
            "Done Reading\n"
          ],
          "name": "stdout"
        }
      ]
    },
    {
      "cell_type": "code",
      "metadata": {
        "id": "MrHNFG7Y80vW",
        "colab_type": "code",
        "outputId": "ba71ff80-9f2d-4a40-b626-d69c5203890b",
        "colab": {
          "base_uri": "https://localhost:8080/",
          "height": 54
        }
      },
      "source": [
        "lines[2]"
      ],
      "execution_count": 21,
      "outputs": [
        {
          "output_type": "execute_result",
          "data": {
            "text/plain": [
              "\"Not the hacking and gagging and spitting part.  Please.\\tOkay... then how 'bout we try out some French cuisine.  Saturday?  Night?\""
            ]
          },
          "metadata": {
            "tags": []
          },
          "execution_count": 21
        }
      ]
    },
    {
      "cell_type": "code",
      "metadata": {
        "id": "F91h2lXj85xN",
        "colab_type": "code",
        "outputId": "049adf50-44ba-4653-f7e4-4d80f167e710",
        "colab": {
          "base_uri": "https://localhost:8080/",
          "height": 34
        }
      },
      "source": [
        "len(pairs)"
      ],
      "execution_count": 22,
      "outputs": [
        {
          "output_type": "execute_result",
          "data": {
            "text/plain": [
              "221282"
            ]
          },
          "metadata": {
            "tags": []
          },
          "execution_count": 22
        }
      ]
    },
    {
      "cell_type": "code",
      "metadata": {
        "id": "dBkCskSn_8sa",
        "colab_type": "code",
        "colab": {}
      },
      "source": [
        "MAX_LENGTH = 10\n",
        "# Returns True iff both sentences in a pair 'p' are under the MAX_LENGTH threshold\n",
        "def filterPair(p):\n",
        "    # Input sequences need to preserve the last word for EOS token\n",
        "    return len(p[0].split(' ')) < MAX_LENGTH and len(p[1].split(' ')) < MAX_LENGTH"
      ],
      "execution_count": 0,
      "outputs": []
    },
    {
      "cell_type": "code",
      "metadata": {
        "id": "-3OKn1ewFjkE",
        "colab_type": "code",
        "colab": {}
      },
      "source": [
        "# Filter pairs using filterPair condition\n",
        "def filterPairs(pairs):\n",
        "    return [pair for pair in pairs if filterPair(pair)]"
      ],
      "execution_count": 0,
      "outputs": []
    },
    {
      "cell_type": "code",
      "metadata": {
        "id": "4QzCtHHQLgmb",
        "colab_type": "code",
        "colab": {
          "base_uri": "https://localhost:8080/",
          "height": 68
        },
        "outputId": "99fd3006-d452-4243-906a-8e0929ab6b66"
      },
      "source": [
        "pairs = [pair for pair in pairs if len(pair)>1]\n",
        "print(\"There are {} pairs/conversations in the dataset\".format(len(pairs)))\n",
        "pairs = filterPairs(pairs)\n",
        "print(\"After Filtering\")\n",
        "print(\"There are {} pairs/conversations in the dataset\".format(len(pairs)))"
      ],
      "execution_count": 25,
      "outputs": [
        {
          "output_type": "stream",
          "text": [
            "There are 221282 pairs/conversations in the dataset\n",
            "After Filtering\n",
            "There are 64271 pairs/conversations in the dataset\n"
          ],
          "name": "stdout"
        }
      ]
    },
    {
      "cell_type": "code",
      "metadata": {
        "id": "D8LRJFy9MHpV",
        "colab_type": "code",
        "colab": {
          "base_uri": "https://localhost:8080/",
          "height": 51
        },
        "outputId": "25e936fa-4351-4417-8b8d-91efffd2ef68"
      },
      "source": [
        "print(\"Counting words...\")\n",
        "for pair in pairs:\n",
        "    voc.addSentence(pair[0])\n",
        "    voc.addSentence(pair[1])\n",
        "\n",
        "print(\"Counted words:\", voc.num_words)"
      ],
      "execution_count": 26,
      "outputs": [
        {
          "output_type": "stream",
          "text": [
            "Counting words...\n",
            "Counted words: 18008\n"
          ],
          "name": "stdout"
        }
      ]
    },
    {
      "cell_type": "code",
      "metadata": {
        "id": "3fNN988ANvRA",
        "colab_type": "code",
        "colab": {
          "base_uri": "https://localhost:8080/",
          "height": 187
        },
        "outputId": "dc07c253-5632-4fea-d415-64684c657234"
      },
      "source": [
        "for pair in pairs[:10]:\n",
        "  print(pair)"
      ],
      "execution_count": 27,
      "outputs": [
        {
          "output_type": "stream",
          "text": [
            "['there .', 'where ?']\n",
            "['you have my word . as a gentleman', 'you re sweet .']\n",
            "['hi .', 'looks like things worked out tonight huh ?']\n",
            "['you know chastity ?', 'i believe we share an art instructor']\n",
            "['have fun tonight ?', 'tons']\n",
            "['well no . . .', 'then that s all you had to say .']\n",
            "['then that s all you had to say .', 'but']\n",
            "['but', 'you always been this selfish ?']\n",
            "['do you listen to this crap ?', 'what crap ?']\n",
            "['what good stuff ?', 'the real you .']\n"
          ],
          "name": "stdout"
        }
      ]
    },
    {
      "cell_type": "code",
      "metadata": {
        "id": "1v54-VFGN2RS",
        "colab_type": "code",
        "colab": {}
      },
      "source": [
        "MIN_COUNT = 3    # Minimum word count threshold for trimming\n",
        "\n",
        "def trimRareWords(voc, pairs, MIN_COUNT):\n",
        "    # Trim words used under the MIN_COUNT from the voc\n",
        "    voc.trim(MIN_COUNT)\n",
        "    # Filter out pairs with trimmed words\n",
        "    keep_pairs = []\n",
        "    for pair in pairs:\n",
        "        input_sentence = pair[0]\n",
        "        output_sentence = pair[1]\n",
        "        keep_input = True\n",
        "        keep_output = True\n",
        "        # Check input sentence\n",
        "        for word in input_sentence.split(' '):\n",
        "            if word not in voc.word2index:\n",
        "                keep_input = False\n",
        "                break\n",
        "        # Check output sentence\n",
        "        for word in output_sentence.split(' '):\n",
        "            if word not in voc.word2index:\n",
        "                keep_output = False\n",
        "                break\n",
        "\n",
        "        # Only keep pairs that do not contain trimmed word(s) in their input or output sentence\n",
        "        if keep_input and keep_output:\n",
        "            keep_pairs.append(pair)\n",
        "\n",
        "    print(\"Trimmed from {} pairs to {}, {:.4f} of total\".format(len(pairs), len(keep_pairs), len(keep_pairs) / len(pairs)))\n",
        "    return keep_pairs"
      ],
      "execution_count": 0,
      "outputs": []
    },
    {
      "cell_type": "code",
      "metadata": {
        "id": "g53Jf_gLo7Ja",
        "colab_type": "code",
        "colab": {
          "base_uri": "https://localhost:8080/",
          "height": 51
        },
        "outputId": "7991a64d-6785-439f-9076-3d771b896349"
      },
      "source": [
        "pairs = trimRareWords(voc, pairs, MIN_COUNT)"
      ],
      "execution_count": 29,
      "outputs": [
        {
          "output_type": "stream",
          "text": [
            "keep_words 7823 / 18005 = 0.4345\n",
            "Trimmed from 64271 pairs to 53165, 0.8272 of total\n"
          ],
          "name": "stdout"
        }
      ]
    },
    {
      "cell_type": "code",
      "metadata": {
        "id": "ATdVkIoRq-ZP",
        "colab_type": "code",
        "colab": {}
      },
      "source": [
        ""
      ],
      "execution_count": 0,
      "outputs": []
    }
  ]
}