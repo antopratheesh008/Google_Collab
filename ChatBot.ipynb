{
  "nbformat": 4,
  "nbformat_minor": 0,
  "metadata": {
    "colab": {
      "name": "ChatBot.ipynb",
      "provenance": [],
      "collapsed_sections": [],
      "mount_file_id": "17WZM4oH1hB0xR5unm2HWIrRdLltfyqGY",
      "authorship_tag": "ABX9TyMvUkl6V8gJxOAg/350UGfZ",
      "include_colab_link": true
    },
    "kernelspec": {
      "name": "python3",
      "display_name": "Python 3"
    },
    "accelerator": "GPU"
  },
  "cells": [
    {
      "cell_type": "markdown",
      "metadata": {
        "id": "view-in-github",
        "colab_type": "text"
      },
      "source": [
        "<a href=\"https://colab.research.google.com/github/antopratheesh008/Google_Collab/blob/master/ChatBot.ipynb\" target=\"_parent\"><img src=\"https://colab.research.google.com/assets/colab-badge.svg\" alt=\"Open In Colab\"/></a>"
      ]
    },
    {
      "cell_type": "code",
      "metadata": {
        "id": "Rc3cQSwSgTQo",
        "colab_type": "code",
        "colab": {}
      },
      "source": [
        "import torch\n",
        "import torch.nn as nn\n",
        "from torch import optim\n",
        "import torch.nn.functional as F\n",
        "import csv\n",
        "import random\n",
        "import re\n",
        "import os\n",
        "import unicodedata\n",
        "import codecs\n",
        "from io import open\n",
        "import itertools\n",
        "import math"
      ],
      "execution_count": 0,
      "outputs": []
    },
    {
      "cell_type": "code",
      "metadata": {
        "id": "TBAMD7SKzetN",
        "colab_type": "code",
        "colab": {}
      },
      "source": [
        "USE_CUDA = torch.cuda.is_available()\n",
        "device = torch.device(\"cuda\" if USE_CUDA else \"cpu\")"
      ],
      "execution_count": 0,
      "outputs": []
    },
    {
      "cell_type": "code",
      "metadata": {
        "id": "NUD5DQw2zfJJ",
        "colab_type": "code",
        "outputId": "859a1a3b-f5e3-4d1a-b6d2-522b249671ef",
        "colab": {
          "base_uri": "https://localhost:8080/",
          "height": 34
        }
      },
      "source": [
        "device"
      ],
      "execution_count": 3,
      "outputs": [
        {
          "output_type": "execute_result",
          "data": {
            "text/plain": [
              "device(type='cuda')"
            ]
          },
          "metadata": {
            "tags": []
          },
          "execution_count": 3
        }
      ]
    },
    {
      "cell_type": "code",
      "metadata": {
        "id": "L98QjQk8z5WJ",
        "colab_type": "code",
        "colab": {}
      },
      "source": [
        "corpus_name = \"/content/drive/My Drive/DataSets/Cornell_movie\"\n",
        "lines_filepath = os.path.join(corpus_name,\"movie_lines.txt\")\n",
        "conv_filepath = os.path.join(corpus_name, \"movie_conversations.txt\")"
      ],
      "execution_count": 0,
      "outputs": []
    },
    {
      "cell_type": "code",
      "metadata": {
        "id": "j8gDL68I0jfu",
        "colab_type": "code",
        "outputId": "9b51b9f6-2c2e-4ca6-efc8-bf3e2163cb17",
        "colab": {
          "base_uri": "https://localhost:8080/",
          "height": 153
        }
      },
      "source": [
        "with open(lines_filepath, 'r', errors='ignore') as file :\n",
        "  lines = file.readlines()\n",
        "for line in lines[:8]:\n",
        "  print(line.strip())"
      ],
      "execution_count": 5,
      "outputs": [
        {
          "output_type": "stream",
          "text": [
            "L1045 +++$+++ u0 +++$+++ m0 +++$+++ BIANCA +++$+++ They do not!\n",
            "L1044 +++$+++ u2 +++$+++ m0 +++$+++ CAMERON +++$+++ They do to!\n",
            "L985 +++$+++ u0 +++$+++ m0 +++$+++ BIANCA +++$+++ I hope so.\n",
            "L984 +++$+++ u2 +++$+++ m0 +++$+++ CAMERON +++$+++ She okay?\n",
            "L925 +++$+++ u0 +++$+++ m0 +++$+++ BIANCA +++$+++ Let's go.\n",
            "L924 +++$+++ u2 +++$+++ m0 +++$+++ CAMERON +++$+++ Wow\n",
            "L872 +++$+++ u0 +++$+++ m0 +++$+++ BIANCA +++$+++ Okay -- you're gonna need to learn how to lie.\n",
            "L871 +++$+++ u2 +++$+++ m0 +++$+++ CAMERON +++$+++ No\n"
          ],
          "name": "stdout"
        }
      ]
    },
    {
      "cell_type": "code",
      "metadata": {
        "id": "bPpRvMUz1Mis",
        "colab_type": "code",
        "colab": {}
      },
      "source": [
        "line_fields = ['lineID','characterID','movieID','character','text']\n",
        "lines={}\n",
        "with open(lines_filepath, 'r', encoding='iso-8859-1') as f:\n",
        "    for line in f:\n",
        "          values = line.split(\" +++$+++ \")\n",
        "          # Extract fields\n",
        "          lineObj = {}\n",
        "          for i, field in enumerate(line_fields):\n",
        "              lineObj[field] = values[i]\n",
        "          lines[lineObj['lineID']] = lineObj"
      ],
      "execution_count": 0,
      "outputs": []
    },
    {
      "cell_type": "code",
      "metadata": {
        "id": "B6QgKMd0522l",
        "colab_type": "code",
        "outputId": "6845f8aa-cc8b-4865-fc0e-ccda3590a52b",
        "colab": {
          "base_uri": "https://localhost:8080/",
          "height": 102
        }
      },
      "source": [
        "lines['L871']"
      ],
      "execution_count": 7,
      "outputs": [
        {
          "output_type": "execute_result",
          "data": {
            "text/plain": [
              "{'character': 'CAMERON',\n",
              " 'characterID': 'u2',\n",
              " 'lineID': 'L871',\n",
              " 'movieID': 'm0',\n",
              " 'text': 'No\\n'}"
            ]
          },
          "metadata": {
            "tags": []
          },
          "execution_count": 7
        }
      ]
    },
    {
      "cell_type": "code",
      "metadata": {
        "id": "aNPKd33K6PmP",
        "colab_type": "code",
        "colab": {}
      },
      "source": [
        "conv_fields=[\"character1ID\",\"character2ID\",\"movieID\",\"utteranceIDs\"]\n",
        "conversations = []\n",
        "with open(conv_filepath, 'r', encoding='iso-8859-1') as f:\n",
        "    for line in f:\n",
        "        values = line.split(\" +++$+++ \")\n",
        "        # Extract fields\n",
        "        convObj = {}\n",
        "        for i, field in enumerate(conv_fields):\n",
        "            convObj[field] = values[i]\n",
        "        # Convert string to list (convObj[\"utteranceIDs\"] == \"['L598485', 'L598486', ...]\")\n",
        "        utterance_id_pattern = re.compile('L[0-9]+')\n",
        "        lineIds = utterance_id_pattern.findall(convObj[\"utteranceIDs\"])\n",
        "        # Reassemble lines\n",
        "        convObj[\"lines\"] = []\n",
        "        for lineId in lineIds:\n",
        "            convObj[\"lines\"].append(lines[lineId])\n",
        "        conversations.append(convObj)"
      ],
      "execution_count": 0,
      "outputs": []
    },
    {
      "cell_type": "code",
      "metadata": {
        "id": "0VKbBJ2580mo",
        "colab_type": "code",
        "outputId": "4ca09218-3148-422c-f0cf-be02bf5ae61f",
        "colab": {
          "base_uri": "https://localhost:8080/",
          "height": 425
        }
      },
      "source": [
        "conversations[0]"
      ],
      "execution_count": 9,
      "outputs": [
        {
          "output_type": "execute_result",
          "data": {
            "text/plain": [
              "{'character1ID': 'u0',\n",
              " 'character2ID': 'u2',\n",
              " 'lines': [{'character': 'BIANCA',\n",
              "   'characterID': 'u0',\n",
              "   'lineID': 'L194',\n",
              "   'movieID': 'm0',\n",
              "   'text': 'Can we make this quick?  Roxanne Korrine and Andrew Barrett are having an incredibly horrendous public break- up on the quad.  Again.\\n'},\n",
              "  {'character': 'CAMERON',\n",
              "   'characterID': 'u2',\n",
              "   'lineID': 'L195',\n",
              "   'movieID': 'm0',\n",
              "   'text': \"Well, I thought we'd start with pronunciation, if that's okay with you.\\n\"},\n",
              "  {'character': 'BIANCA',\n",
              "   'characterID': 'u0',\n",
              "   'lineID': 'L196',\n",
              "   'movieID': 'm0',\n",
              "   'text': 'Not the hacking and gagging and spitting part.  Please.\\n'},\n",
              "  {'character': 'CAMERON',\n",
              "   'characterID': 'u2',\n",
              "   'lineID': 'L197',\n",
              "   'movieID': 'm0',\n",
              "   'text': \"Okay... then how 'bout we try out some French cuisine.  Saturday?  Night?\\n\"}],\n",
              " 'movieID': 'm0',\n",
              " 'utteranceIDs': \"['L194', 'L195', 'L196', 'L197']\\n\"}"
            ]
          },
          "metadata": {
            "tags": []
          },
          "execution_count": 9
        }
      ]
    },
    {
      "cell_type": "code",
      "metadata": {
        "id": "SZF_uQ1L9R1h",
        "colab_type": "code",
        "colab": {}
      },
      "source": [
        "qa_pairs = []\n",
        "for conversation in conversations:\n",
        "    # Iterate over all the lines of the conversation\n",
        "    for i in range(len(conversation[\"lines\"]) - 1):  # We ignore the last line (no answer for it)\n",
        "        inputLine = conversation[\"lines\"][i][\"text\"].strip()\n",
        "        targetLine = conversation[\"lines\"][i+1][\"text\"].strip()\n",
        "        # Filter wrong samples (if one of the lists is empty)\n",
        "        if inputLine and targetLine:\n",
        "            qa_pairs.append([inputLine, targetLine])"
      ],
      "execution_count": 0,
      "outputs": []
    },
    {
      "cell_type": "code",
      "metadata": {
        "id": "c2ePegY2BGdV",
        "colab_type": "code",
        "outputId": "139f206d-d21f-4a89-8e1f-70434768af37",
        "colab": {
          "base_uri": "https://localhost:8080/",
          "height": 85
        }
      },
      "source": [
        "qa_pairs[:2]"
      ],
      "execution_count": 11,
      "outputs": [
        {
          "output_type": "execute_result",
          "data": {
            "text/plain": [
              "[['Can we make this quick?  Roxanne Korrine and Andrew Barrett are having an incredibly horrendous public break- up on the quad.  Again.',\n",
              "  \"Well, I thought we'd start with pronunciation, if that's okay with you.\"],\n",
              " [\"Well, I thought we'd start with pronunciation, if that's okay with you.\",\n",
              "  'Not the hacking and gagging and spitting part.  Please.']]"
            ]
          },
          "metadata": {
            "tags": []
          },
          "execution_count": 11
        }
      ]
    },
    {
      "cell_type": "code",
      "metadata": {
        "id": "KxM_SANHBH3q",
        "colab_type": "code",
        "outputId": "2c76e4c9-1d20-4eb2-ab0f-3968c2fc8c03",
        "colab": {
          "base_uri": "https://localhost:8080/",
          "height": 34
        }
      },
      "source": [
        "len(qa_pairs)"
      ],
      "execution_count": 12,
      "outputs": [
        {
          "output_type": "execute_result",
          "data": {
            "text/plain": [
              "221282"
            ]
          },
          "metadata": {
            "tags": []
          },
          "execution_count": 12
        }
      ]
    },
    {
      "cell_type": "code",
      "metadata": {
        "id": "dc2XK8CpCA0t",
        "colab_type": "code",
        "outputId": "76df6dc5-c0f2-464b-8a7d-db0f01950ce9",
        "colab": {
          "base_uri": "https://localhost:8080/",
          "height": 68
        }
      },
      "source": [
        "print(\"\\nWriting newly formatted file...\")\n",
        "datafile=\"/content/drive/My Drive/DataSets/Cornell_movie/formatted_movies_lines.txt\"\n",
        "delimiter=\"\\t\"\n",
        "delimiter=str(codecs.decode(delimiter, \"unicode_escape\"))\n",
        "with open(datafile, 'w', encoding='utf-8') as outputfile:\n",
        "    writer = csv.writer(outputfile, delimiter=delimiter)\n",
        "    for pair in qa_pairs:\n",
        "        writer.writerow(pair)\n",
        "    print(\"Done writing the file\")"
      ],
      "execution_count": 13,
      "outputs": [
        {
          "output_type": "stream",
          "text": [
            "\n",
            "Writing newly formatted file...\n",
            "Done writing the file\n"
          ],
          "name": "stdout"
        }
      ]
    },
    {
      "cell_type": "code",
      "metadata": {
        "id": "gWZ4pWXrF8sX",
        "colab_type": "code",
        "outputId": "dd9a0b0a-0be8-465d-c255-47ee36a5716b",
        "colab": {
          "base_uri": "https://localhost:8080/",
          "height": 173
        }
      },
      "source": [
        "with open(datafile, 'rb') as file:\n",
        "  lines=file.readlines()\n",
        "  for line in lines[:8]:\n",
        "    print(line)\n"
      ],
      "execution_count": 14,
      "outputs": [
        {
          "output_type": "stream",
          "text": [
            "b\"Can we make this quick?  Roxanne Korrine and Andrew Barrett are having an incredibly horrendous public break- up on the quad.  Again.\\tWell, I thought we'd start with pronunciation, if that's okay with you.\\r\\n\"\n",
            "b\"Well, I thought we'd start with pronunciation, if that's okay with you.\\tNot the hacking and gagging and spitting part.  Please.\\r\\n\"\n",
            "b\"Not the hacking and gagging and spitting part.  Please.\\tOkay... then how 'bout we try out some French cuisine.  Saturday?  Night?\\r\\n\"\n",
            "b\"You're asking me out.  That's so cute. What's your name again?\\tForget it.\\r\\n\"\n",
            "b\"No, no, it's my fault -- we didn't have a proper introduction ---\\tCameron.\\r\\n\"\n",
            "b\"Cameron.\\tThe thing is, Cameron -- I'm at the mercy of a particularly hideous breed of loser.  My sister.  I can't date until she does.\\r\\n\"\n",
            "b\"The thing is, Cameron -- I'm at the mercy of a particularly hideous breed of loser.  My sister.  I can't date until she does.\\tSeems like she could get a date easy enough...\\r\\n\"\n",
            "b'Why?\\tUnsolved mystery.  She used to be really popular when she started high school, then it was just like she got sick of it or something.\\r\\n'\n"
          ],
          "name": "stdout"
        }
      ]
    },
    {
      "cell_type": "code",
      "metadata": {
        "id": "CRb48IC5GYVD",
        "colab_type": "code",
        "colab": {}
      },
      "source": [
        "PAD_token = 0  # Used for padding short sentences\n",
        "SOS_token = 1  # Start-of-sentence token\n",
        "EOS_token = 2  # End-of-sentence token\n",
        "\n",
        "class Vocabulary:\n",
        "    def __init__(self, name):\n",
        "        self.name = name\n",
        "        self.trimmed = False\n",
        "        self.word2index = {}\n",
        "        self.word2count = {}\n",
        "        self.index2word = {PAD_token: \"PAD\", SOS_token: \"SOS\", EOS_token: \"EOS\"}\n",
        "        self.num_words = 3  # Count SOS, EOS, PAD\n",
        "\n",
        "    def addSentence(self, sentence):\n",
        "        for word in sentence.split(' '):\n",
        "            self.addWord(word)\n",
        "\n",
        "    def addWord(self, word):\n",
        "        if word not in self.word2index:\n",
        "            self.word2index[word] = self.num_words\n",
        "            self.word2count[word] = 1\n",
        "            self.index2word[self.num_words] = word\n",
        "            self.num_words += 1\n",
        "        else:\n",
        "            self.word2count[word] += 1\n",
        "\n",
        "    # Remove words below a certain count threshold\n",
        "    def trim(self, min_count):\n",
        "        keep_words = []\n",
        "\n",
        "        for k, v in self.word2count.items():\n",
        "            if v >= min_count:\n",
        "                keep_words.append(k)\n",
        "\n",
        "        print('keep_words {} / {} = {:.4f}'.format(\n",
        "            len(keep_words), len(self.word2index), len(keep_words) / len(self.word2index)\n",
        "        ))\n",
        "\n",
        "        # Reinitialize dictionaries\n",
        "        self.word2index = {}\n",
        "        self.word2count = {}\n",
        "        self.index2word = {PAD_token: \"PAD\", SOS_token: \"SOS\", EOS_token: \"EOS\"}\n",
        "        self.num_words = 3 # Count default tokens\n",
        "\n",
        "        for word in keep_words:\n",
        "            self.addWord(word)"
      ],
      "execution_count": 0,
      "outputs": []
    },
    {
      "cell_type": "code",
      "metadata": {
        "id": "jQE5se7F5a5w",
        "colab_type": "code",
        "colab": {}
      },
      "source": [
        "# NFD - Normal Form Decompose\n",
        "# Mn - Non marking space\n",
        "def unicodeToAscii(s):\n",
        "    return ''.join(c for c in unicodedata.normalize('NFD', s) if unicodedata.category(c) != 'Mn')"
      ],
      "execution_count": 0,
      "outputs": []
    },
    {
      "cell_type": "code",
      "metadata": {
        "id": "iXwHr5df7Qrl",
        "colab_type": "code",
        "outputId": "3393e89f-0da0-4c81-f25f-176ece8dea65",
        "colab": {
          "base_uri": "https://localhost:8080/",
          "height": 34
        }
      },
      "source": [
        "unicodeToAscii('François')"
      ],
      "execution_count": 17,
      "outputs": [
        {
          "output_type": "execute_result",
          "data": {
            "text/plain": [
              "'Francois'"
            ]
          },
          "metadata": {
            "tags": []
          },
          "execution_count": 17
        }
      ]
    },
    {
      "cell_type": "code",
      "metadata": {
        "id": "YnEk9IoC7T9K",
        "colab_type": "code",
        "colab": {}
      },
      "source": [
        "# Lowercase, trim, and remove non-letter characters\n",
        "def normalizeString(s):\n",
        "    s = unicodeToAscii(s.lower().strip())\n",
        "    s = re.sub(r\"([.!?])\", r\" \\1\", s)\n",
        "    s = re.sub(r\"[^a-zA-Z.!?]+\", r\" \", s)\n",
        "    s = re.sub(r\"\\s+\", r\" \", s).strip()\n",
        "    return s"
      ],
      "execution_count": 0,
      "outputs": []
    },
    {
      "cell_type": "code",
      "metadata": {
        "id": "BK3K7mlB7d8t",
        "colab_type": "code",
        "outputId": "f30e6414-dd89-4e85-a793-e4e802d47317",
        "colab": {
          "base_uri": "https://localhost:8080/",
          "height": 34
        }
      },
      "source": [
        "# Test the function\n",
        "normalizeString(\"aa123a!3 dd?\")"
      ],
      "execution_count": 19,
      "outputs": [
        {
          "output_type": "execute_result",
          "data": {
            "text/plain": [
              "'aa a ! dd ?'"
            ]
          },
          "metadata": {
            "tags": []
          },
          "execution_count": 19
        }
      ]
    },
    {
      "cell_type": "code",
      "metadata": {
        "id": "DvoH4AzD8H7T",
        "colab_type": "code",
        "outputId": "f6636346-e7e4-4bc8-a503-6483f1978755",
        "colab": {
          "base_uri": "https://localhost:8080/",
          "height": 51
        }
      },
      "source": [
        "# Read the file and split into lines\n",
        "print(\"Reading lines...\")\n",
        "lines = open(datafile, encoding='utf-8').read().strip().split('\\n')\n",
        "# Split every line into pairs and normalize\n",
        "pairs = [[normalizeString(s) for s in l.split('\\t')] for l in lines]\n",
        "print('Done Reading')\n",
        "voc = Vocabulary(corpus_name)"
      ],
      "execution_count": 20,
      "outputs": [
        {
          "output_type": "stream",
          "text": [
            "Reading lines...\n",
            "Done Reading\n"
          ],
          "name": "stdout"
        }
      ]
    },
    {
      "cell_type": "code",
      "metadata": {
        "id": "MrHNFG7Y80vW",
        "colab_type": "code",
        "outputId": "1f9a00c0-a0a0-46d1-c401-4ef5d39da6ad",
        "colab": {
          "base_uri": "https://localhost:8080/",
          "height": 34
        }
      },
      "source": [
        "lines[2]"
      ],
      "execution_count": 21,
      "outputs": [
        {
          "output_type": "execute_result",
          "data": {
            "text/plain": [
              "\"Not the hacking and gagging and spitting part.  Please.\\tOkay... then how 'bout we try out some French cuisine.  Saturday?  Night?\""
            ]
          },
          "metadata": {
            "tags": []
          },
          "execution_count": 21
        }
      ]
    },
    {
      "cell_type": "code",
      "metadata": {
        "id": "F91h2lXj85xN",
        "colab_type": "code",
        "outputId": "d890c801-91d0-4c24-a0e0-04f603690e5a",
        "colab": {
          "base_uri": "https://localhost:8080/",
          "height": 34
        }
      },
      "source": [
        "len(pairs)"
      ],
      "execution_count": 22,
      "outputs": [
        {
          "output_type": "execute_result",
          "data": {
            "text/plain": [
              "221282"
            ]
          },
          "metadata": {
            "tags": []
          },
          "execution_count": 22
        }
      ]
    },
    {
      "cell_type": "code",
      "metadata": {
        "id": "dBkCskSn_8sa",
        "colab_type": "code",
        "colab": {}
      },
      "source": [
        "MAX_LENGTH = 10\n",
        "# Returns True iff both sentences in a pair 'p' are under the MAX_LENGTH threshold\n",
        "def filterPair(p):\n",
        "    # Input sequences need to preserve the last word for EOS token\n",
        "    return len(p[0].split(' ')) < MAX_LENGTH and len(p[1].split(' ')) < MAX_LENGTH"
      ],
      "execution_count": 0,
      "outputs": []
    },
    {
      "cell_type": "code",
      "metadata": {
        "id": "-3OKn1ewFjkE",
        "colab_type": "code",
        "colab": {}
      },
      "source": [
        "# Filter pairs using filterPair condition\n",
        "def filterPairs(pairs):\n",
        "    return [pair for pair in pairs if filterPair(pair)]"
      ],
      "execution_count": 0,
      "outputs": []
    },
    {
      "cell_type": "code",
      "metadata": {
        "id": "4QzCtHHQLgmb",
        "colab_type": "code",
        "outputId": "b0f67eff-0f2f-488c-becf-e479aa981bd6",
        "colab": {
          "base_uri": "https://localhost:8080/",
          "height": 68
        }
      },
      "source": [
        "pairs = [pair for pair in pairs if len(pair)>1]\n",
        "print(\"There are {} pairs/conversations in the dataset\".format(len(pairs)))\n",
        "pairs = filterPairs(pairs)\n",
        "print(\"After Filtering\")\n",
        "print(\"There are {} pairs/conversations in the dataset\".format(len(pairs)))"
      ],
      "execution_count": 25,
      "outputs": [
        {
          "output_type": "stream",
          "text": [
            "There are 221282 pairs/conversations in the dataset\n",
            "After Filtering\n",
            "There are 64271 pairs/conversations in the dataset\n"
          ],
          "name": "stdout"
        }
      ]
    },
    {
      "cell_type": "code",
      "metadata": {
        "id": "D8LRJFy9MHpV",
        "colab_type": "code",
        "outputId": "cd76dc5d-257c-426c-85e0-03e730edcb77",
        "colab": {
          "base_uri": "https://localhost:8080/",
          "height": 51
        }
      },
      "source": [
        "print(\"Counting words...\")\n",
        "for pair in pairs:\n",
        "    voc.addSentence(pair[0])\n",
        "    voc.addSentence(pair[1])\n",
        "\n",
        "print(\"Counted words:\", voc.num_words)"
      ],
      "execution_count": 26,
      "outputs": [
        {
          "output_type": "stream",
          "text": [
            "Counting words...\n",
            "Counted words: 18008\n"
          ],
          "name": "stdout"
        }
      ]
    },
    {
      "cell_type": "code",
      "metadata": {
        "id": "3fNN988ANvRA",
        "colab_type": "code",
        "outputId": "facea4b8-1655-4a11-cd75-7daf4705cea4",
        "colab": {
          "base_uri": "https://localhost:8080/",
          "height": 187
        }
      },
      "source": [
        "for pair in pairs[:10]:\n",
        "  print(pair)"
      ],
      "execution_count": 27,
      "outputs": [
        {
          "output_type": "stream",
          "text": [
            "['there .', 'where ?']\n",
            "['you have my word . as a gentleman', 'you re sweet .']\n",
            "['hi .', 'looks like things worked out tonight huh ?']\n",
            "['you know chastity ?', 'i believe we share an art instructor']\n",
            "['have fun tonight ?', 'tons']\n",
            "['well no . . .', 'then that s all you had to say .']\n",
            "['then that s all you had to say .', 'but']\n",
            "['but', 'you always been this selfish ?']\n",
            "['do you listen to this crap ?', 'what crap ?']\n",
            "['what good stuff ?', 'the real you .']\n"
          ],
          "name": "stdout"
        }
      ]
    },
    {
      "cell_type": "code",
      "metadata": {
        "id": "1v54-VFGN2RS",
        "colab_type": "code",
        "colab": {}
      },
      "source": [
        "MIN_COUNT = 3    # Minimum word count threshold for trimming\n",
        "\n",
        "def trimRareWords(voc, pairs, MIN_COUNT):\n",
        "    # Trim words used under the MIN_COUNT from the voc\n",
        "    voc.trim(MIN_COUNT)\n",
        "    # Filter out pairs with trimmed words\n",
        "    keep_pairs = []\n",
        "    for pair in pairs:\n",
        "        input_sentence = pair[0]\n",
        "        output_sentence = pair[1]\n",
        "        keep_input = True\n",
        "        keep_output = True\n",
        "        # Check input sentence\n",
        "        for word in input_sentence.split(' '):\n",
        "            if word not in voc.word2index:\n",
        "                keep_input = False\n",
        "                break\n",
        "        # Check output sentence\n",
        "        for word in output_sentence.split(' '):\n",
        "            if word not in voc.word2index:\n",
        "                keep_output = False\n",
        "                break\n",
        "\n",
        "        # Only keep pairs that do not contain trimmed word(s) in their input or output sentence\n",
        "        if keep_input and keep_output:\n",
        "            keep_pairs.append(pair)\n",
        "\n",
        "    print(\"Trimmed from {} pairs to {}, {:.4f} of total\".format(len(pairs), len(keep_pairs), len(keep_pairs) / len(pairs)))\n",
        "    return keep_pairs"
      ],
      "execution_count": 0,
      "outputs": []
    },
    {
      "cell_type": "code",
      "metadata": {
        "id": "g53Jf_gLo7Ja",
        "colab_type": "code",
        "outputId": "65967755-dc38-4e6b-ad31-980fa70de684",
        "colab": {
          "base_uri": "https://localhost:8080/",
          "height": 51
        }
      },
      "source": [
        "pairs = trimRareWords(voc, pairs, MIN_COUNT)"
      ],
      "execution_count": 29,
      "outputs": [
        {
          "output_type": "stream",
          "text": [
            "keep_words 7823 / 18005 = 0.4345\n",
            "Trimmed from 64271 pairs to 53165, 0.8272 of total\n"
          ],
          "name": "stdout"
        }
      ]
    },
    {
      "cell_type": "code",
      "metadata": {
        "id": "ATdVkIoRq-ZP",
        "colab_type": "code",
        "colab": {}
      },
      "source": [
        "def indexesFromSentence(voc, sentence):\n",
        "    return [voc.word2index[word] for word in sentence.split(' ')] + [EOS_token]"
      ],
      "execution_count": 0,
      "outputs": []
    },
    {
      "cell_type": "code",
      "metadata": {
        "id": "7iVWAi3VMzHn",
        "colab_type": "code",
        "outputId": "85997653-094e-4ca5-c4fb-bae033d9c717",
        "colab": {
          "base_uri": "https://localhost:8080/",
          "height": 34
        }
      },
      "source": [
        "indexesFromSentence(voc, pairs[1][0])"
      ],
      "execution_count": 31,
      "outputs": [
        {
          "output_type": "execute_result",
          "data": {
            "text/plain": [
              "[7, 8, 9, 10, 4, 11, 12, 13, 2]"
            ]
          },
          "metadata": {
            "tags": []
          },
          "execution_count": 31
        }
      ]
    },
    {
      "cell_type": "code",
      "metadata": {
        "id": "FShYPvaSM2BQ",
        "colab_type": "code",
        "outputId": "eab6ac54-e3c1-4a45-c3d2-451c56db6556",
        "colab": {
          "base_uri": "https://localhost:8080/",
          "height": 71
        }
      },
      "source": [
        "inp = []\n",
        "out = []\n",
        "for pair in pairs[:10]:\n",
        "  inp.append(pair[0])\n",
        "  out.append(pair[1])\n",
        "print(inp)\n",
        "print(len(inp))\n",
        "indexes = [indexesFromSentence(voc, sentence) for sentence in inp]"
      ],
      "execution_count": 32,
      "outputs": [
        {
          "output_type": "stream",
          "text": [
            "['there .', 'you have my word . as a gentleman', 'hi .', 'have fun tonight ?', 'well no . . .', 'then that s all you had to say .', 'but', 'do you listen to this crap ?', 'what good stuff ?', 'wow']\n",
            "10\n"
          ],
          "name": "stdout"
        }
      ]
    },
    {
      "cell_type": "code",
      "metadata": {
        "id": "1_RP1iUDM42V",
        "colab_type": "code",
        "outputId": "6c9dbbfd-dd7d-4da0-ad67-95a7e99f2923",
        "colab": {
          "base_uri": "https://localhost:8080/",
          "height": 187
        }
      },
      "source": [
        "indexes"
      ],
      "execution_count": 33,
      "outputs": [
        {
          "output_type": "execute_result",
          "data": {
            "text/plain": [
              "[[3, 4, 2],\n",
              " [7, 8, 9, 10, 4, 11, 12, 13, 2],\n",
              " [16, 4, 2],\n",
              " [8, 31, 22, 6, 2],\n",
              " [33, 34, 4, 4, 4, 2],\n",
              " [35, 36, 37, 38, 7, 39, 40, 41, 4, 2],\n",
              " [42, 2],\n",
              " [47, 7, 48, 40, 45, 49, 6, 2],\n",
              " [50, 51, 52, 6, 2],\n",
              " [58, 2]]"
            ]
          },
          "metadata": {
            "tags": []
          },
          "execution_count": 33
        }
      ]
    },
    {
      "cell_type": "code",
      "metadata": {
        "id": "oLV2_46LNyTG",
        "colab_type": "code",
        "colab": {}
      },
      "source": [
        "def zeroPadding(l, fillvalue=PAD_token):\n",
        "    return list(itertools.zip_longest(*l, fillvalue=fillvalue))"
      ],
      "execution_count": 0,
      "outputs": []
    },
    {
      "cell_type": "code",
      "metadata": {
        "id": "E0UQ7zRdSRjN",
        "colab_type": "code",
        "outputId": "b66b62e3-1d23-42f1-b674-355d14756d15",
        "colab": {
          "base_uri": "https://localhost:8080/",
          "height": 34
        }
      },
      "source": [
        "leng = [len(ind) for ind in indexes]\n",
        "max(leng)"
      ],
      "execution_count": 35,
      "outputs": [
        {
          "output_type": "execute_result",
          "data": {
            "text/plain": [
              "10"
            ]
          },
          "metadata": {
            "tags": []
          },
          "execution_count": 35
        }
      ]
    },
    {
      "cell_type": "code",
      "metadata": {
        "id": "BpOfW76aTV6S",
        "colab_type": "code",
        "outputId": "095a972f-c124-48e0-9395-c5d5ee8c784d",
        "colab": {
          "base_uri": "https://localhost:8080/",
          "height": 204
        }
      },
      "source": [
        "# test zeroPadding\n",
        "test_result = zeroPadding(indexes)\n",
        "print(len(test_result))\n",
        "test_result"
      ],
      "execution_count": 36,
      "outputs": [
        {
          "output_type": "stream",
          "text": [
            "10\n"
          ],
          "name": "stdout"
        },
        {
          "output_type": "execute_result",
          "data": {
            "text/plain": [
              "[(3, 7, 16, 8, 33, 35, 42, 47, 50, 58),\n",
              " (4, 8, 4, 31, 34, 36, 2, 7, 51, 2),\n",
              " (2, 9, 2, 22, 4, 37, 0, 48, 52, 0),\n",
              " (0, 10, 0, 6, 4, 38, 0, 40, 6, 0),\n",
              " (0, 4, 0, 2, 4, 7, 0, 45, 2, 0),\n",
              " (0, 11, 0, 0, 2, 39, 0, 49, 0, 0),\n",
              " (0, 12, 0, 0, 0, 40, 0, 6, 0, 0),\n",
              " (0, 13, 0, 0, 0, 41, 0, 2, 0, 0),\n",
              " (0, 2, 0, 0, 0, 4, 0, 0, 0, 0),\n",
              " (0, 0, 0, 0, 0, 2, 0, 0, 0, 0)]"
            ]
          },
          "metadata": {
            "tags": []
          },
          "execution_count": 36
        }
      ]
    },
    {
      "cell_type": "code",
      "metadata": {
        "id": "0fAXyRsrTlwe",
        "colab_type": "code",
        "colab": {}
      },
      "source": [
        "def binaryMatrix(l, value=PAD_token):\n",
        "    m = []\n",
        "    for i, seq in enumerate(l):\n",
        "        m.append([])\n",
        "        for token in seq:\n",
        "            if token == PAD_token:\n",
        "                m[i].append(0)\n",
        "            else:\n",
        "                m[i].append(1)\n",
        "    return m"
      ],
      "execution_count": 0,
      "outputs": []
    },
    {
      "cell_type": "code",
      "metadata": {
        "id": "6pp9TzCDc677",
        "colab_type": "code",
        "outputId": "e984f5bd-5772-475e-efb1-48dc589974f5",
        "colab": {
          "base_uri": "https://localhost:8080/",
          "height": 187
        }
      },
      "source": [
        "binary_result = binaryMatrix(test_result)\n",
        "binary_result"
      ],
      "execution_count": 38,
      "outputs": [
        {
          "output_type": "execute_result",
          "data": {
            "text/plain": [
              "[[1, 1, 1, 1, 1, 1, 1, 1, 1, 1],\n",
              " [1, 1, 1, 1, 1, 1, 1, 1, 1, 1],\n",
              " [1, 1, 1, 1, 1, 1, 0, 1, 1, 0],\n",
              " [0, 1, 0, 1, 1, 1, 0, 1, 1, 0],\n",
              " [0, 1, 0, 1, 1, 1, 0, 1, 1, 0],\n",
              " [0, 1, 0, 0, 1, 1, 0, 1, 0, 0],\n",
              " [0, 1, 0, 0, 0, 1, 0, 1, 0, 0],\n",
              " [0, 1, 0, 0, 0, 1, 0, 1, 0, 0],\n",
              " [0, 1, 0, 0, 0, 1, 0, 0, 0, 0],\n",
              " [0, 0, 0, 0, 0, 1, 0, 0, 0, 0]]"
            ]
          },
          "metadata": {
            "tags": []
          },
          "execution_count": 38
        }
      ]
    },
    {
      "cell_type": "code",
      "metadata": {
        "id": "Pq1Byo8rdM1D",
        "colab_type": "code",
        "colab": {}
      },
      "source": [
        "# Returns padded input sequence tensor and lengths\n",
        "def inputVar(l, voc):\n",
        "    indexes_batch = [indexesFromSentence(voc, sentence) for sentence in l]\n",
        "    lengths = torch.tensor([len(indexes) for indexes in indexes_batch])\n",
        "    padList = zeroPadding(indexes_batch)\n",
        "    padVar = torch.LongTensor(padList)\n",
        "    return padVar, lengths"
      ],
      "execution_count": 0,
      "outputs": []
    },
    {
      "cell_type": "code",
      "metadata": {
        "id": "hclF7DvyfCWi",
        "colab_type": "code",
        "colab": {}
      },
      "source": [
        "# Returns padded target sequence tensor, padding mask, and max target length\n",
        "def outputVar(l, voc):\n",
        "    indexes_batch = [indexesFromSentence(voc, sentence) for sentence in l]\n",
        "    max_target_len = max([len(indexes) for indexes in indexes_batch])\n",
        "    padList = zeroPadding(indexes_batch)\n",
        "    mask = binaryMatrix(padList)\n",
        "    mask = torch.BoolTensor(mask)\n",
        "    padVar = torch.LongTensor(padList)\n",
        "    return padVar, mask, max_target_len"
      ],
      "execution_count": 0,
      "outputs": []
    },
    {
      "cell_type": "code",
      "metadata": {
        "id": "wS7T33HIfC7S",
        "colab_type": "code",
        "colab": {}
      },
      "source": [
        "# Returns all items for a given batch of pairs\n",
        "def batch2TrainData(voc, pair_batch):\n",
        "    pair_batch.sort(key=lambda x: len(x[0].split(\" \")), reverse=True)\n",
        "    input_batch, output_batch = [], []\n",
        "    for pair in pair_batch:\n",
        "        input_batch.append(pair[0])\n",
        "        output_batch.append(pair[1])\n",
        "    inp, lengths = inputVar(input_batch, voc)\n",
        "    output, mask, max_target_len = outputVar(output_batch, voc)\n",
        "    return inp, lengths, output, mask, max_target_len"
      ],
      "execution_count": 0,
      "outputs": []
    },
    {
      "cell_type": "code",
      "metadata": {
        "id": "144TTXCHf-ma",
        "colab_type": "code",
        "outputId": "66d3615c-18ee-427a-b625-ec79dbd7cc0b",
        "colab": {
          "base_uri": "https://localhost:8080/",
          "height": 510
        }
      },
      "source": [
        "# validation\n",
        "small_batch_size = 5\n",
        "batches = batch2TrainData(voc, [random.choice(pairs) for _ in range(small_batch_size)])\n",
        "input_variable, lengths, target_variable, mask, max_target_len = batches\n",
        "print(\"input_variable:\", input_variable)\n",
        "print(\"lengths:\", lengths)\n",
        "print(\"target_variable:\", target_variable)\n",
        "print(\"mask:\", mask)\n",
        "print(\"max_target_len:\", max_target_len)"
      ],
      "execution_count": 42,
      "outputs": [
        {
          "output_type": "stream",
          "text": [
            "input_variable: tensor([[6471,  192,   33,   47,    7],\n",
            "        [ 279,    4,    7,    7,  151],\n",
            "        [  83,   68,  242, 1187,  159],\n",
            "        [  50,    7,   76,   40,    6],\n",
            "        [ 102,  359,    4,  380,    2],\n",
            "        [  96,   53,    7, 5898,    0],\n",
            "        [  76,  377, 1939,    6,    0],\n",
            "        [   4,    6,    6,    2,    0],\n",
            "        [   2,    2,    2,    0,    0]])\n",
            "lengths: tensor([9, 9, 9, 8, 5])\n",
            "target_variable: tensor([[ 281,   25, 4785,   25,   98],\n",
            "        [  61,  118,    4,   47,   22],\n",
            "        [  37,   45,    2, 1187,    4],\n",
            "        [ 896,  180,    0,   40,    2],\n",
            "        [   7,   91,    0,  380,    0],\n",
            "        [  53,    4,    0, 5898,    0],\n",
            "        [2244,    2,    0,    4,    0],\n",
            "        [   4,    0,    0,    2,    0],\n",
            "        [   2,    0,    0,    0,    0]])\n",
            "mask: tensor([[ True,  True,  True,  True,  True],\n",
            "        [ True,  True,  True,  True,  True],\n",
            "        [ True,  True,  True,  True,  True],\n",
            "        [ True,  True, False,  True,  True],\n",
            "        [ True,  True, False,  True, False],\n",
            "        [ True,  True, False,  True, False],\n",
            "        [ True,  True, False,  True, False],\n",
            "        [ True, False, False,  True, False],\n",
            "        [ True, False, False, False, False]])\n",
            "max_target_len: 9\n"
          ],
          "name": "stdout"
        }
      ]
    },
    {
      "cell_type": "code",
      "metadata": {
        "id": "e1e9klwyhbiK",
        "colab_type": "code",
        "colab": {}
      },
      "source": [
        "class EncoderRNN(nn.Module):\n",
        "    def __init__(self, hidden_size, embedding, n_layers=1, dropout=0):\n",
        "        super(EncoderRNN, self).__init__()\n",
        "        self.n_layers = n_layers\n",
        "        self.hidden_size = hidden_size\n",
        "        self.embedding = embedding\n",
        "\n",
        "        # Initialize GRU; the input_size and hidden_size params are both set to 'hidden_size'\n",
        "        #   because our input size is a word embedding with number of features == hidden_size\n",
        "        self.gru = nn.GRU(hidden_size, hidden_size, n_layers,\n",
        "                          dropout=(0 if n_layers == 1 else dropout), bidirectional=True)\n",
        "\n",
        "    def forward(self, input_seq, input_lengths, hidden=None):\n",
        "        # Convert word indexes to embeddings\n",
        "        embedded = self.embedding(input_seq)\n",
        "        # Pack padded batch of sequences for RNN module\n",
        "        packed = nn.utils.rnn.pack_padded_sequence(embedded, input_lengths)\n",
        "        # Forward pass through GRU\n",
        "        outputs, hidden = self.gru(packed, hidden)\n",
        "        # Unpack padding\n",
        "        outputs, _ = nn.utils.rnn.pad_packed_sequence(outputs)\n",
        "        # Sum bidirectional GRU outputs\n",
        "        outputs = outputs[:, :, :self.hidden_size] + outputs[:, : ,self.hidden_size:]\n",
        "        # Return output and final hidden state\n",
        "        return outputs, hidden"
      ],
      "execution_count": 0,
      "outputs": []
    },
    {
      "cell_type": "code",
      "metadata": {
        "id": "9yrZVw8pDKB2",
        "colab_type": "code",
        "colab": {}
      },
      "source": [
        "# Luong attention layer\n",
        "class Attn(nn.Module):\n",
        "    def __init__(self, method, hidden_size):\n",
        "        super(Attn, self).__init__()\n",
        "        self.method = method\n",
        "        if self.method not in ['dot', 'general', 'concat']:\n",
        "            raise ValueError(self.method, \"is not an appropriate attention method.\")\n",
        "        self.hidden_size = hidden_size\n",
        "        if self.method == 'general':\n",
        "            self.attn = nn.Linear(self.hidden_size, hidden_size)\n",
        "        elif self.method == 'concat':\n",
        "            self.attn = nn.Linear(self.hidden_size * 2, hidden_size)\n",
        "            self.v = nn.Parameter(torch.FloatTensor(hidden_size))\n",
        "\n",
        "    def dot_score(self, hidden, encoder_output):\n",
        "        return torch.sum(hidden * encoder_output, dim=2)\n",
        "\n",
        "    def general_score(self, hidden, encoder_output):\n",
        "        energy = self.attn(encoder_output)\n",
        "        return torch.sum(hidden * energy, dim=2)\n",
        "\n",
        "    def concat_score(self, hidden, encoder_output):\n",
        "        energy = self.attn(torch.cat((hidden.expand(encoder_output.size(0), -1, -1), encoder_output), 2)).tanh()\n",
        "        return torch.sum(self.v * energy, dim=2)\n",
        "\n",
        "    def forward(self, hidden, encoder_outputs):\n",
        "        # Calculate the attention weights (energies) based on the given method\n",
        "        if self.method == 'general':\n",
        "            attn_energies = self.general_score(hidden, encoder_outputs)\n",
        "        elif self.method == 'concat':\n",
        "            attn_energies = self.concat_score(hidden, encoder_outputs)\n",
        "        elif self.method == 'dot':\n",
        "            attn_energies = self.dot_score(hidden, encoder_outputs)\n",
        "\n",
        "        # Transpose max_length and batch_size dimensions\n",
        "        attn_energies = attn_energies.t()\n",
        "\n",
        "        # Return the softmax normalized probability scores (with added dimension)\n",
        "        return F.softmax(attn_energies, dim=1).unsqueeze(1)\n"
      ],
      "execution_count": 0,
      "outputs": []
    },
    {
      "cell_type": "code",
      "metadata": {
        "id": "pkktHUOwYxBT",
        "colab_type": "code",
        "colab": {}
      },
      "source": [
        "class LuongAttnDecoderRNN(nn.Module):\n",
        "    def __init__(self, attn_model, embedding, hidden_size, output_size, n_layers=1, dropout=0.1):\n",
        "        super(LuongAttnDecoderRNN, self).__init__()\n",
        "\n",
        "        # Keep for reference\n",
        "        self.attn_model = attn_model\n",
        "        self.hidden_size = hidden_size\n",
        "        self.output_size = output_size\n",
        "        self.n_layers = n_layers\n",
        "        self.dropout = dropout\n",
        "\n",
        "        # Define layers\n",
        "        self.embedding = embedding\n",
        "        self.embedding_dropout = nn.Dropout(dropout)\n",
        "        self.gru = nn.GRU(hidden_size, hidden_size, n_layers, dropout=(0 if n_layers == 1 else dropout))\n",
        "        self.concat = nn.Linear(hidden_size * 2, hidden_size)\n",
        "        self.out = nn.Linear(hidden_size, output_size)\n",
        "\n",
        "        self.attn = Attn(attn_model, hidden_size)\n",
        "\n",
        "    def forward(self, input_step, last_hidden, encoder_outputs):\n",
        "        # Note: we run this one step (word) at a time\n",
        "        # Get embedding of current input word\n",
        "        embedded = self.embedding(input_step)\n",
        "        embedded = self.embedding_dropout(embedded)\n",
        "        # Forward through unidirectional GRU\n",
        "        rnn_output, hidden = self.gru(embedded, last_hidden)\n",
        "        # RNN output shape - (1,batch_size, hidden_size)\n",
        "        # hidden output shape - (num_layers*num_directions, batch, hidden_size)\n",
        "        # Calculate attention weights from the current GRU output\n",
        "        attn_weights = self.attn(rnn_output, encoder_outputs)\n",
        "        # Multiply attention weights to encoder outputs to get new \"weighted sum\" context vector\n",
        "        context = attn_weights.bmm(encoder_outputs.transpose(0, 1))\n",
        "        # Concatenate weighted context vector and GRU output using Luong eq. 5\n",
        "        rnn_output = rnn_output.squeeze(0)\n",
        "        context = context.squeeze(1)\n",
        "        concat_input = torch.cat((rnn_output, context), 1)\n",
        "        concat_output = torch.tanh(self.concat(concat_input))\n",
        "        # Predict next word using Luong eq. 6\n",
        "        output = self.out(concat_output)\n",
        "        output = F.softmax(output, dim=1)\n",
        "        # Return output and final hidden state\n",
        "        return output, hidden"
      ],
      "execution_count": 0,
      "outputs": []
    },
    {
      "cell_type": "code",
      "metadata": {
        "id": "SzkqAprDBHM7",
        "colab_type": "code",
        "colab": {}
      },
      "source": [
        "def maskNLLLoss(inp, target, mask):\n",
        "    nTotal = mask.sum() # No of elements to be considered\n",
        "    crossEntropy = -torch.log(torch.gather(inp, 1, target.view(-1, 1)).squeeze(1))\n",
        "    loss = crossEntropy.masked_select(mask).mean()\n",
        "    loss = loss.to(device)\n",
        "    return loss, nTotal.item()"
      ],
      "execution_count": 0,
      "outputs": []
    },
    {
      "cell_type": "code",
      "metadata": {
        "id": "6D-SE_JIJREo",
        "colab_type": "code",
        "outputId": "0b515ce9-908d-4f93-aec5-103409dc6990",
        "colab": {
          "base_uri": "https://localhost:8080/",
          "height": 1000
        }
      },
      "source": [
        "# Visualizing one iteration\n",
        "small_batch_size = 5\n",
        "batches = batch2TrainData(voc, [random.choice(pairs) for _ in range(small_batch_size)])\n",
        "input_variable, lengths, target_variable, mask, max_target_len = batches\n",
        "\n",
        "print(\"input_variable_shape \", input_variable.shape)\n",
        "print(\"lengths_shape \", lengths.shape)\n",
        "print(\"target_variable_shape \", target_variable.shape)\n",
        "print(\"mask_shape \", mask.shape)\n",
        "print(\"max_target_len \",max_target_len)\n",
        "\n",
        "# Define Parameters\n",
        "hidden_size = 500\n",
        "encoder_n_layers = 2\n",
        "decoder_n_layers = 2\n",
        "dropout = 0.1\n",
        "attn_model = 'dot'\n",
        "embedding = nn.Embedding(voc.num_words, hidden_size)\n",
        "\n",
        "# Define Encoder and Decoder\n",
        "encoder = EncoderRNN(hidden_size, embedding, n_layers = encoder_n_layers, dropout = dropout)\n",
        "decoder = LuongAttnDecoderRNN(attn_model, embedding, hidden_size, voc.num_words, decoder_n_layers, dropout)\n",
        "encoder = encoder.to(device)\n",
        "decoder = decoder.to(device)\n",
        "\n",
        "# ensure dropout layers are in train mode\n",
        "encoder.train()\n",
        "decoder.train()\n",
        "\n",
        "# Initialize optimizers\n",
        "\n",
        "encoder_optimizer = optim.Adam(encoder.parameters(), lr = 0.0001)\n",
        "decoder_optimizer = optim.Adam(decoder.parameters(), lr = 0.0001)\n",
        "encoder_optimizer.zero_grad()\n",
        "decoder_optimizer.zero_grad()\n",
        "\n",
        "input_variable = input_variable.to(device)\n",
        "lengths = lengths.to(device)\n",
        "target_variable = target_variable.to(device)\n",
        "mask = mask.to(device)\n",
        "\n",
        "loss = 0\n",
        "print_losses = []\n",
        "n_totals = 0\n",
        "\n",
        "encoder_outputs, encoder_hidden = encoder(input_variable, lengths)\n",
        "print(\"Encoder Outputs Shape:\", encoder_outputs.shape)\n",
        "print(\"Last Encoder Hidden Shape:\", encoder_hidden.shape)\n",
        "\n",
        "decoder_input = torch.LongTensor([[SOS_token for _ in range(small_batch_size)]])\n",
        "decoder_input = decoder_input.to(device)\n",
        "print(\"Initial decoder input shape\", decoder_input.shape)\n",
        "print(decoder_input)\n",
        "\n",
        "# set initial decoder hidden state to encoder's final hidden state\n",
        "decoder_hidden = encoder_hidden[:decoder.n_layers]\n",
        "print(\"Initial Decoder hidden state shape : \", decoder_hidden.shape)\n",
        "print(\"\\n\")\n",
        "print(\"Now lets look at what is happening in each timestep of GRU\")\n",
        "\n",
        "# Assume we are using teacher forcing\n",
        "for t in range(max_target_len):\n",
        "  decoder_output, decoder_hidden = decoder(decoder_input, decoder_hidden, encoder_outputs)\n",
        "  print(\"Decoder output shape:  \",decoder_output.shape)\n",
        "  print(\"Decoder hidden shape: \", decoder_hidden.shape)\n",
        "  decoder_input = target_variable[t].view(1,-1)\n",
        "  print(\"The target variable at current timestep before reshaping \", target_variable[t])\n",
        "  print(\"The target variable at current timestep shape before reshaping \", target_variable[t].shape)\n",
        "  print(\"The reshaped target variable \", decoder_input)\n",
        "  # calculate and accumulate loss\n",
        "  print(\"The mask at current timestep \", mask[t])\n",
        "  print(\"The shape of mask at current timestep \",mask[t].shape)\n",
        "  mask_loss, nTotal = maskNLLLoss(decoder_output, target_variable[t], mask[t])\n",
        "  print(\"Mask loss :\",mask_loss)\n",
        "  print(\"Total :\",nTotal)\n",
        "  loss += mask_loss\n",
        "  print_losses.append(mask_loss.item()*nTotal)\n",
        "  print(print_losses)\n",
        "  n_totals += nTotal\n",
        "  print(n_totals)\n",
        "  encoder_optimizer.step()\n",
        "  decoder_optimizer.step()\n",
        "  returned_loss = sum(print_losses)/n_totals\n",
        "  print(\"Retured loss: \", returned_loss)\n",
        "  print(\"\\n\")\n",
        "  print(\"Done one timestep\")\n",
        "\n",
        "\n",
        "\n"
      ],
      "execution_count": 50,
      "outputs": [
        {
          "output_type": "stream",
          "text": [
            "input_variable_shape  torch.Size([10, 5])\n",
            "lengths_shape  torch.Size([5])\n",
            "target_variable_shape  torch.Size([10, 5])\n",
            "mask_shape  torch.Size([10, 5])\n",
            "max_target_len  10\n",
            "Encoder Outputs Shape: torch.Size([10, 5, 500])\n",
            "Last Encoder Hidden Shape: torch.Size([4, 5, 500])\n",
            "Initial decoder input shape torch.Size([1, 5])\n",
            "tensor([[1, 1, 1, 1, 1]], device='cuda:0')\n",
            "Initial Decoder hidden state shape :  torch.Size([2, 5, 500])\n",
            "\n",
            "\n",
            "Now lets look at what is happening in each timestep of GRU\n",
            "Decoder output shape:   torch.Size([5, 7826])\n",
            "Decoder hidden shape:  torch.Size([2, 5, 500])\n",
            "The target variable at current timestep before reshaping  tensor([  25,   50,  124,    5, 2618], device='cuda:0')\n",
            "The target variable at current timestep shape before reshaping  torch.Size([5])\n",
            "The reshaped target variable  tensor([[  25,   50,  124,    5, 2618]], device='cuda:0')\n",
            "The mask at current timestep  tensor([True, True, True, True, True], device='cuda:0')\n",
            "The shape of mask at current timestep  torch.Size([5])\n",
            "Mask loss : tensor(8.9615, device='cuda:0', grad_fn=<MeanBackward0>)\n",
            "Total : 5\n",
            "[44.80764389038086]\n",
            "5\n",
            "Retured loss:  8.961528778076172\n",
            "\n",
            "\n",
            "Done one timestep\n",
            "Decoder output shape:   torch.Size([5, 7826])\n",
            "Decoder hidden shape:  torch.Size([2, 5, 500])\n",
            "The target variable at current timestep before reshaping  tensor([882,   6, 167, 115,  53], device='cuda:0')\n",
            "The target variable at current timestep shape before reshaping  torch.Size([5])\n",
            "The reshaped target variable  tensor([[882,   6, 167, 115,  53]], device='cuda:0')\n",
            "The mask at current timestep  tensor([True, True, True, True, True], device='cuda:0')\n",
            "The shape of mask at current timestep  torch.Size([5])\n",
            "Mask loss : tensor(8.9772, device='cuda:0', grad_fn=<MeanBackward0>)\n",
            "Total : 5\n",
            "[44.80764389038086, 44.88594055175781]\n",
            "10\n",
            "Retured loss:  8.969358444213867\n",
            "\n",
            "\n",
            "Done one timestep\n",
            "Decoder output shape:   torch.Size([5, 7826])\n",
            "Decoder hidden shape:  torch.Size([2, 5, 500])\n",
            "The target variable at current timestep before reshaping  tensor([ 174,    2,    6,   53, 1303], device='cuda:0')\n",
            "The target variable at current timestep shape before reshaping  torch.Size([5])\n",
            "The reshaped target variable  tensor([[ 174,    2,    6,   53, 1303]], device='cuda:0')\n",
            "The mask at current timestep  tensor([True, True, True, True, True], device='cuda:0')\n",
            "The shape of mask at current timestep  torch.Size([5])\n",
            "Mask loss : tensor(8.9504, device='cuda:0', grad_fn=<MeanBackward0>)\n",
            "Total : 5\n",
            "[44.80764389038086, 44.88594055175781, 44.75205898284912]\n",
            "15\n",
            "Retured loss:  8.963042894999186\n",
            "\n",
            "\n",
            "Done one timestep\n",
            "Decoder output shape:   torch.Size([5, 7826])\n",
            "Decoder hidden shape:  torch.Size([2, 5, 500])\n",
            "The target variable at current timestep before reshaping  tensor([  12,    0,    2, 1432,  450], device='cuda:0')\n",
            "The target variable at current timestep shape before reshaping  torch.Size([5])\n",
            "The reshaped target variable  tensor([[  12,    0,    2, 1432,  450]], device='cuda:0')\n",
            "The mask at current timestep  tensor([ True, False,  True,  True,  True], device='cuda:0')\n",
            "The shape of mask at current timestep  torch.Size([5])\n",
            "Mask loss : tensor(8.9627, device='cuda:0', grad_fn=<MeanBackward0>)\n",
            "Total : 4\n",
            "[44.80764389038086, 44.88594055175781, 44.75205898284912, 35.85076141357422]\n",
            "19\n",
            "Retured loss:  8.96296867571379\n",
            "\n",
            "\n",
            "Done one timestep\n",
            "Decoder output shape:   torch.Size([5, 7826])\n",
            "Decoder hidden shape:  torch.Size([2, 5, 500])\n",
            "The target variable at current timestep before reshaping  tensor([1729,    0,    0,  122,    8], device='cuda:0')\n",
            "The target variable at current timestep shape before reshaping  torch.Size([5])\n",
            "The reshaped target variable  tensor([[1729,    0,    0,  122,    8]], device='cuda:0')\n",
            "The mask at current timestep  tensor([ True, False, False,  True,  True], device='cuda:0')\n",
            "The shape of mask at current timestep  torch.Size([5])\n",
            "Mask loss : tensor(8.9321, device='cuda:0', grad_fn=<MeanBackward0>)\n",
            "Total : 3\n",
            "[44.80764389038086, 44.88594055175781, 44.75205898284912, 35.85076141357422, 26.796180725097656]\n",
            "22\n",
            "Retured loss:  8.958753889257258\n",
            "\n",
            "\n",
            "Done one timestep\n",
            "Decoder output shape:   torch.Size([5, 7826])\n",
            "Decoder hidden shape:  torch.Size([2, 5, 500])\n",
            "The target variable at current timestep before reshaping  tensor([   4,    0,    0,   53, 3790], device='cuda:0')\n",
            "The target variable at current timestep shape before reshaping  torch.Size([5])\n",
            "The reshaped target variable  tensor([[   4,    0,    0,   53, 3790]], device='cuda:0')\n",
            "The mask at current timestep  tensor([ True, False, False,  True,  True], device='cuda:0')\n",
            "The shape of mask at current timestep  torch.Size([5])\n",
            "Mask loss : tensor(8.9843, device='cuda:0', grad_fn=<MeanBackward0>)\n",
            "Total : 3\n",
            "[44.80764389038086, 44.88594055175781, 44.75205898284912, 35.85076141357422, 26.796180725097656, 26.953033447265625]\n",
            "25\n",
            "Retured loss:  8.961824760437011\n",
            "\n",
            "\n",
            "Done one timestep\n",
            "Decoder output shape:   torch.Size([5, 7826])\n",
            "Decoder hidden shape:  torch.Size([2, 5, 500])\n",
            "The target variable at current timestep before reshaping  tensor([   2,    0,    0, 1602,  174], device='cuda:0')\n",
            "The target variable at current timestep shape before reshaping  torch.Size([5])\n",
            "The reshaped target variable  tensor([[   2,    0,    0, 1602,  174]], device='cuda:0')\n",
            "The mask at current timestep  tensor([ True, False, False,  True,  True], device='cuda:0')\n",
            "The shape of mask at current timestep  torch.Size([5])\n",
            "Mask loss : tensor(8.9608, device='cuda:0', grad_fn=<MeanBackward0>)\n",
            "Total : 3\n",
            "[44.80764389038086, 44.88594055175781, 44.75205898284912, 35.85076141357422, 26.796180725097656, 26.953033447265625, 26.8822603225708]\n",
            "28\n",
            "Retured loss:  8.961709976196289\n",
            "\n",
            "\n",
            "Done one timestep\n",
            "Decoder output shape:   torch.Size([5, 7826])\n",
            "Decoder hidden shape:  torch.Size([2, 5, 500])\n",
            "The target variable at current timestep before reshaping  tensor([   0,    0,    0, 1621,   21], device='cuda:0')\n",
            "The target variable at current timestep shape before reshaping  torch.Size([5])\n",
            "The reshaped target variable  tensor([[   0,    0,    0, 1621,   21]], device='cuda:0')\n",
            "The mask at current timestep  tensor([False, False, False,  True,  True], device='cuda:0')\n",
            "The shape of mask at current timestep  torch.Size([5])\n",
            "Mask loss : tensor(8.9899, device='cuda:0', grad_fn=<MeanBackward0>)\n",
            "Total : 2\n",
            "[44.80764389038086, 44.88594055175781, 44.75205898284912, 35.85076141357422, 26.796180725097656, 26.953033447265625, 26.8822603225708, 17.979839324951172]\n",
            "30\n",
            "Retured loss:  8.963590621948242\n",
            "\n",
            "\n",
            "Done one timestep\n",
            "Decoder output shape:   torch.Size([5, 7826])\n",
            "Decoder hidden shape:  torch.Size([2, 5, 500])\n",
            "The target variable at current timestep before reshaping  tensor([0, 0, 0, 6, 4], device='cuda:0')\n",
            "The target variable at current timestep shape before reshaping  torch.Size([5])\n",
            "The reshaped target variable  tensor([[0, 0, 0, 6, 4]], device='cuda:0')\n",
            "The mask at current timestep  tensor([False, False, False,  True,  True], device='cuda:0')\n",
            "The shape of mask at current timestep  torch.Size([5])\n",
            "Mask loss : tensor(8.9424, device='cuda:0', grad_fn=<MeanBackward0>)\n",
            "Total : 2\n",
            "[44.80764389038086, 44.88594055175781, 44.75205898284912, 35.85076141357422, 26.796180725097656, 26.953033447265625, 26.8822603225708, 17.979839324951172, 17.884737014770508]\n",
            "32\n",
            "Retured loss:  8.962264239788055\n",
            "\n",
            "\n",
            "Done one timestep\n",
            "Decoder output shape:   torch.Size([5, 7826])\n",
            "Decoder hidden shape:  torch.Size([2, 5, 500])\n",
            "The target variable at current timestep before reshaping  tensor([0, 0, 0, 2, 2], device='cuda:0')\n",
            "The target variable at current timestep shape before reshaping  torch.Size([5])\n",
            "The reshaped target variable  tensor([[0, 0, 0, 2, 2]], device='cuda:0')\n",
            "The mask at current timestep  tensor([False, False, False,  True,  True], device='cuda:0')\n",
            "The shape of mask at current timestep  torch.Size([5])\n",
            "Mask loss : tensor(8.9930, device='cuda:0', grad_fn=<MeanBackward0>)\n",
            "Total : 2\n",
            "[44.80764389038086, 44.88594055175781, 44.75205898284912, 35.85076141357422, 26.796180725097656, 26.953033447265625, 26.8822603225708, 17.979839324951172, 17.884737014770508, 17.985912322998047]\n",
            "34\n",
            "Retured loss:  8.964069646947523\n",
            "\n",
            "\n",
            "Done one timestep\n"
          ],
          "name": "stdout"
        }
      ]
    },
    {
      "cell_type": "code",
      "metadata": {
        "id": "rlUL17yQn-hk",
        "colab_type": "code",
        "colab": {}
      },
      "source": [
        "def train(input_variable, lengths, target_variable, mask, max_target_len, encoder, decoder, embedding,\n",
        "          encoder_optimizer, decoder_optimizer, batch_size, clip, max_length=MAX_LENGTH):\n",
        "\n",
        "    # Zero gradients\n",
        "    encoder_optimizer.zero_grad()\n",
        "    decoder_optimizer.zero_grad()\n",
        "\n",
        "    # Set device options\n",
        "    input_variable = input_variable.to(device)\n",
        "    lengths = lengths.to(device)\n",
        "    target_variable = target_variable.to(device)\n",
        "    mask = mask.to(device)\n",
        "\n",
        "    # Initialize variables\n",
        "    loss = 0\n",
        "    print_losses = []\n",
        "    n_totals = 0\n",
        "\n",
        "    # Forward pass through encoder\n",
        "    encoder_outputs, encoder_hidden = encoder(input_variable, lengths)\n",
        "\n",
        "    # Create initial decoder input (start with SOS tokens for each sentence)\n",
        "    decoder_input = torch.LongTensor([[SOS_token for _ in range(batch_size)]])\n",
        "    decoder_input = decoder_input.to(device)\n",
        "\n",
        "    # Set initial decoder hidden state to the encoder's final hidden state\n",
        "    decoder_hidden = encoder_hidden[:decoder.n_layers]\n",
        "\n",
        "    # Determine if we are using teacher forcing this iteration\n",
        "    use_teacher_forcing = True if random.random() < teacher_forcing_ratio else False\n",
        "\n",
        "    # Forward batch of sequences through decoder one time step at a time\n",
        "    if use_teacher_forcing:\n",
        "        for t in range(max_target_len):\n",
        "            decoder_output, decoder_hidden = decoder(\n",
        "                decoder_input, decoder_hidden, encoder_outputs\n",
        "            )\n",
        "            # Teacher forcing: next input is current target\n",
        "            decoder_input = target_variable[t].view(1, -1)\n",
        "            # Calculate and accumulate loss\n",
        "            mask_loss, nTotal = maskNLLLoss(decoder_output, target_variable[t], mask[t])\n",
        "            loss += mask_loss\n",
        "            print_losses.append(mask_loss.item() * nTotal)\n",
        "            n_totals += nTotal\n",
        "    else:\n",
        "        for t in range(max_target_len):\n",
        "            decoder_output, decoder_hidden = decoder(\n",
        "                decoder_input, decoder_hidden, encoder_outputs\n",
        "            )\n",
        "            # No teacher forcing: next input is decoder's own current output\n",
        "            _, topi = decoder_output.topk(1)\n",
        "            decoder_input = torch.LongTensor([[topi[i][0] for i in range(batch_size)]])\n",
        "            decoder_input = decoder_input.to(device)\n",
        "            # Calculate and accumulate loss\n",
        "            mask_loss, nTotal = maskNLLLoss(decoder_output, target_variable[t], mask[t])\n",
        "            loss += mask_loss\n",
        "            print_losses.append(mask_loss.item() * nTotal)\n",
        "            n_totals += nTotal\n",
        "\n",
        "    # Perform backpropatation\n",
        "    loss.backward()\n",
        "\n",
        "    # Clip gradients: gradients are modified in place\n",
        "    _ = nn.utils.clip_grad_norm_(encoder.parameters(), clip)\n",
        "    _ = nn.utils.clip_grad_norm_(decoder.parameters(), clip)\n",
        "\n",
        "    # Adjust model weights\n",
        "    encoder_optimizer.step()\n",
        "    decoder_optimizer.step()\n",
        "\n",
        "    return sum(print_losses) / n_totals"
      ],
      "execution_count": 0,
      "outputs": []
    },
    {
      "cell_type": "code",
      "metadata": {
        "id": "taRgOKkhomKg",
        "colab_type": "code",
        "colab": {}
      },
      "source": [
        "def trainIters(model_name, voc, pairs, encoder, decoder, encoder_optimizer, decoder_optimizer, embedding, encoder_n_layers, decoder_n_layers, save_dir, n_iteration, batch_size, print_every, save_every, clip, corpus_name, loadFilename):\n",
        "\n",
        "    # Load batches for each iteration\n",
        "    training_batches = [batch2TrainData(voc, [random.choice(pairs) for _ in range(batch_size)])\n",
        "                      for _ in range(n_iteration)]\n",
        "\n",
        "    # Initializations\n",
        "    print('Initializing ...')\n",
        "    start_iteration = 1\n",
        "    print_loss = 0\n",
        "    if loadFilename:\n",
        "        start_iteration = checkpoint['iteration'] + 1\n",
        "\n",
        "    # Training loop\n",
        "    print(\"Training...\")\n",
        "    for iteration in range(start_iteration, n_iteration + 1):\n",
        "        training_batch = training_batches[iteration - 1]\n",
        "        # Extract fields from batch\n",
        "        input_variable, lengths, target_variable, mask, max_target_len = training_batch\n",
        "\n",
        "        # Run a training iteration with batch\n",
        "        loss = train(input_variable, lengths, target_variable, mask, max_target_len, encoder,\n",
        "                     decoder, embedding, encoder_optimizer, decoder_optimizer, batch_size, clip)\n",
        "        print_loss += loss\n",
        "\n",
        "        # Print progress\n",
        "        if iteration % print_every == 0:\n",
        "            print_loss_avg = print_loss / print_every\n",
        "            print(\"Iteration: {}; Percent complete: {:.1f}%; Average loss: {:.4f}\".format(iteration, iteration / n_iteration * 100, print_loss_avg))\n",
        "            print_loss = 0\n",
        "\n",
        "        # Save checkpoint\n",
        "        if (iteration % save_every == 0):\n",
        "            directory = os.path.join(save_dir, model_name, corpus_name, '{}-{}_{}'.format(encoder_n_layers, decoder_n_layers, hidden_size))\n",
        "            if not os.path.exists(directory):\n",
        "                os.makedirs(directory)\n",
        "            torch.save({\n",
        "                'iteration': iteration,\n",
        "                'en': encoder.state_dict(),\n",
        "                'de': decoder.state_dict(),\n",
        "                'en_opt': encoder_optimizer.state_dict(),\n",
        "                'de_opt': decoder_optimizer.state_dict(),\n",
        "                'loss': loss,\n",
        "                'voc_dict': voc.__dict__,\n",
        "                'embedding': embedding.state_dict()\n",
        "            }, os.path.join(directory, '{}_{}.tar'.format(iteration, 'checkpoint')))"
      ],
      "execution_count": 0,
      "outputs": []
    },
    {
      "cell_type": "code",
      "metadata": {
        "id": "vGh-nRqjFwkz",
        "colab_type": "code",
        "colab": {}
      },
      "source": [
        ""
      ],
      "execution_count": 0,
      "outputs": []
    }
  ]
}